{
 "cells": [
  {
   "cell_type": "markdown",
   "metadata": {},
   "source": [
    "# Projeto 2 - Ciência dos dados\n",
    "\n",
    "### Integrantes do grupo: \n",
    "    João Victor Pazotti\n",
    "    Rafael Alves Madarás\n",
    "    Pedro Mahfuz\n",
    "    Filippo Ferraro\n",
    "### Turma:\n",
    "    2 - A"
   ]
  },
  {
   "cell_type": "code",
   "execution_count": 1,
   "metadata": {},
   "outputs": [],
   "source": [
    "import pandas as pd\n",
    "import matplotlib.pyplot as plt"
   ]
  },
  {
   "cell_type": "code",
   "execution_count": 22,
   "metadata": {},
   "outputs": [],
   "source": [
    "# importa Datasets usados no código\n",
    "\n",
    "# indices de felicidade/ confiança no governo/ GDP/ etc \n",
    "f_2015_ = pd.read_csv(\"2015.csv\")\n",
    "\n",
    "# indices de corrupção\n",
    "co = pd.read_csv(\"index.csv\")"
   ]
  },
  {
   "cell_type": "markdown",
   "metadata": {},
   "source": [
    "### Significado de cada coluna do Dataset:\n",
    "    \n",
    "    Country = País\n",
    "    Happiness Rank = Ranking de felicidade\n",
    "    Happiness Score = Pontuação de felicidade\n",
    "    GDP per Capita = PIB per capita\n",
    "    Life Expectancy = Expectativa de vida\n",
    "    Freedom = Liberdade\n",
    "    Government Corruption (Trust) = Corrupção governamental (Confiança)\n",
    "    Corruption Perceptions Index (CPI) = \n",
    "    Índice de percepção de corrupção (IPC)"
   ]
  },
  {
   "cell_type": "code",
   "execution_count": 3,
   "metadata": {
    "scrolled": false
   },
   "outputs": [
    {
     "data": {
      "text/html": [
       "<div>\n",
       "<style scoped>\n",
       "    .dataframe tbody tr th:only-of-type {\n",
       "        vertical-align: middle;\n",
       "    }\n",
       "\n",
       "    .dataframe tbody tr th {\n",
       "        vertical-align: top;\n",
       "    }\n",
       "\n",
       "    .dataframe thead th {\n",
       "        text-align: right;\n",
       "    }\n",
       "</style>\n",
       "<table border=\"1\" class=\"dataframe\">\n",
       "  <thead>\n",
       "    <tr style=\"text-align: right;\">\n",
       "      <th></th>\n",
       "      <th>Country</th>\n",
       "      <th>Happiness Rank</th>\n",
       "      <th>Happiness Score</th>\n",
       "      <th>GDP per Capita</th>\n",
       "      <th>Life Expectancy</th>\n",
       "      <th>Freedom</th>\n",
       "      <th>Government Corruption (Trust)</th>\n",
       "    </tr>\n",
       "  </thead>\n",
       "  <tbody>\n",
       "    <tr>\n",
       "      <td>0</td>\n",
       "      <td>Switzerland</td>\n",
       "      <td>1</td>\n",
       "      <td>7.587</td>\n",
       "      <td>1.39651</td>\n",
       "      <td>0.94143</td>\n",
       "      <td>0.66557</td>\n",
       "      <td>0.41978</td>\n",
       "    </tr>\n",
       "    <tr>\n",
       "      <td>1</td>\n",
       "      <td>Iceland</td>\n",
       "      <td>2</td>\n",
       "      <td>7.561</td>\n",
       "      <td>1.30232</td>\n",
       "      <td>0.94784</td>\n",
       "      <td>0.62877</td>\n",
       "      <td>0.14145</td>\n",
       "    </tr>\n",
       "    <tr>\n",
       "      <td>2</td>\n",
       "      <td>Denmark</td>\n",
       "      <td>3</td>\n",
       "      <td>7.527</td>\n",
       "      <td>1.32548</td>\n",
       "      <td>0.87464</td>\n",
       "      <td>0.64938</td>\n",
       "      <td>0.48357</td>\n",
       "    </tr>\n",
       "    <tr>\n",
       "      <td>3</td>\n",
       "      <td>Norway</td>\n",
       "      <td>4</td>\n",
       "      <td>7.522</td>\n",
       "      <td>1.45900</td>\n",
       "      <td>0.88521</td>\n",
       "      <td>0.66973</td>\n",
       "      <td>0.36503</td>\n",
       "    </tr>\n",
       "    <tr>\n",
       "      <td>4</td>\n",
       "      <td>Canada</td>\n",
       "      <td>5</td>\n",
       "      <td>7.427</td>\n",
       "      <td>1.32629</td>\n",
       "      <td>0.90563</td>\n",
       "      <td>0.63297</td>\n",
       "      <td>0.32957</td>\n",
       "    </tr>\n",
       "    <tr>\n",
       "      <td>...</td>\n",
       "      <td>...</td>\n",
       "      <td>...</td>\n",
       "      <td>...</td>\n",
       "      <td>...</td>\n",
       "      <td>...</td>\n",
       "      <td>...</td>\n",
       "      <td>...</td>\n",
       "    </tr>\n",
       "    <tr>\n",
       "      <td>153</td>\n",
       "      <td>Rwanda</td>\n",
       "      <td>154</td>\n",
       "      <td>3.465</td>\n",
       "      <td>0.22208</td>\n",
       "      <td>0.42864</td>\n",
       "      <td>0.59201</td>\n",
       "      <td>0.55191</td>\n",
       "    </tr>\n",
       "    <tr>\n",
       "      <td>154</td>\n",
       "      <td>Benin</td>\n",
       "      <td>155</td>\n",
       "      <td>3.340</td>\n",
       "      <td>0.28665</td>\n",
       "      <td>0.31910</td>\n",
       "      <td>0.48450</td>\n",
       "      <td>0.08010</td>\n",
       "    </tr>\n",
       "    <tr>\n",
       "      <td>155</td>\n",
       "      <td>Syria</td>\n",
       "      <td>156</td>\n",
       "      <td>3.006</td>\n",
       "      <td>0.66320</td>\n",
       "      <td>0.72193</td>\n",
       "      <td>0.15684</td>\n",
       "      <td>0.18906</td>\n",
       "    </tr>\n",
       "    <tr>\n",
       "      <td>156</td>\n",
       "      <td>Burundi</td>\n",
       "      <td>157</td>\n",
       "      <td>2.905</td>\n",
       "      <td>0.01530</td>\n",
       "      <td>0.22396</td>\n",
       "      <td>0.11850</td>\n",
       "      <td>0.10062</td>\n",
       "    </tr>\n",
       "    <tr>\n",
       "      <td>157</td>\n",
       "      <td>Togo</td>\n",
       "      <td>158</td>\n",
       "      <td>2.839</td>\n",
       "      <td>0.20868</td>\n",
       "      <td>0.28443</td>\n",
       "      <td>0.36453</td>\n",
       "      <td>0.10731</td>\n",
       "    </tr>\n",
       "  </tbody>\n",
       "</table>\n",
       "<p>158 rows × 7 columns</p>\n",
       "</div>"
      ],
      "text/plain": [
       "         Country  Happiness Rank  Happiness Score  GDP per Capita  \\\n",
       "0    Switzerland               1            7.587         1.39651   \n",
       "1        Iceland               2            7.561         1.30232   \n",
       "2        Denmark               3            7.527         1.32548   \n",
       "3         Norway               4            7.522         1.45900   \n",
       "4         Canada               5            7.427         1.32629   \n",
       "..           ...             ...              ...             ...   \n",
       "153       Rwanda             154            3.465         0.22208   \n",
       "154        Benin             155            3.340         0.28665   \n",
       "155        Syria             156            3.006         0.66320   \n",
       "156      Burundi             157            2.905         0.01530   \n",
       "157         Togo             158            2.839         0.20868   \n",
       "\n",
       "     Life Expectancy  Freedom  Government Corruption (Trust)  \n",
       "0            0.94143  0.66557                        0.41978  \n",
       "1            0.94784  0.62877                        0.14145  \n",
       "2            0.87464  0.64938                        0.48357  \n",
       "3            0.88521  0.66973                        0.36503  \n",
       "4            0.90563  0.63297                        0.32957  \n",
       "..               ...      ...                            ...  \n",
       "153          0.42864  0.59201                        0.55191  \n",
       "154          0.31910  0.48450                        0.08010  \n",
       "155          0.72193  0.15684                        0.18906  \n",
       "156          0.22396  0.11850                        0.10062  \n",
       "157          0.28443  0.36453                        0.10731  \n",
       "\n",
       "[158 rows x 7 columns]"
      ]
     },
     "execution_count": 3,
     "metadata": {},
     "output_type": "execute_result"
    }
   ],
   "source": [
    "# muda nomes da tabela e filtra colunas irrelevantes\n",
    "f_2015_.columns=[\"Country\",\"Region\",\"Happiness Rank\",\"Happiness Score\",\"Standard Error\",\"GDP per Capita\",\"Family\",\n",
    "                 \"Life Expectancy\",\"Freedom\",\"Government Corruption (Trust)\",\"Generosity\",\"Dystopia Residual\"]\n",
    "\n",
    "nova = f_2015_.drop(columns=[\"Region\",\"Standard Error\",\"Family\",\"Generosity\",\"Dystopia Residual\"])\n",
    "\n",
    "# printa tabela_nova\n",
    "nova"
   ]
  },
  {
   "cell_type": "code",
   "execution_count": 4,
   "metadata": {},
   "outputs": [
    {
     "data": {
      "text/html": [
       "<div>\n",
       "<style scoped>\n",
       "    .dataframe tbody tr th:only-of-type {\n",
       "        vertical-align: middle;\n",
       "    }\n",
       "\n",
       "    .dataframe tbody tr th {\n",
       "        vertical-align: top;\n",
       "    }\n",
       "\n",
       "    .dataframe thead th {\n",
       "        text-align: right;\n",
       "    }\n",
       "</style>\n",
       "<table border=\"1\" class=\"dataframe\">\n",
       "  <thead>\n",
       "    <tr style=\"text-align: right;\">\n",
       "      <th></th>\n",
       "      <th>Country</th>\n",
       "      <th>Corruption Perceptions Index (CPI)</th>\n",
       "    </tr>\n",
       "  </thead>\n",
       "  <tbody>\n",
       "    <tr>\n",
       "      <td>0</td>\n",
       "      <td>New Zealand</td>\n",
       "      <td>90</td>\n",
       "    </tr>\n",
       "    <tr>\n",
       "      <td>1</td>\n",
       "      <td>Denmark</td>\n",
       "      <td>90</td>\n",
       "    </tr>\n",
       "    <tr>\n",
       "      <td>2</td>\n",
       "      <td>Finland</td>\n",
       "      <td>89</td>\n",
       "    </tr>\n",
       "    <tr>\n",
       "      <td>3</td>\n",
       "      <td>Sweden</td>\n",
       "      <td>88</td>\n",
       "    </tr>\n",
       "    <tr>\n",
       "      <td>4</td>\n",
       "      <td>Switzerland</td>\n",
       "      <td>86</td>\n",
       "    </tr>\n",
       "    <tr>\n",
       "      <td>...</td>\n",
       "      <td>...</td>\n",
       "      <td>...</td>\n",
       "    </tr>\n",
       "    <tr>\n",
       "      <td>171</td>\n",
       "      <td>Sudan</td>\n",
       "      <td>14</td>\n",
       "    </tr>\n",
       "    <tr>\n",
       "      <td>172</td>\n",
       "      <td>Syria</td>\n",
       "      <td>13</td>\n",
       "    </tr>\n",
       "    <tr>\n",
       "      <td>173</td>\n",
       "      <td>Korea (North)</td>\n",
       "      <td>12</td>\n",
       "    </tr>\n",
       "    <tr>\n",
       "      <td>174</td>\n",
       "      <td>South Sudan</td>\n",
       "      <td>11</td>\n",
       "    </tr>\n",
       "    <tr>\n",
       "      <td>175</td>\n",
       "      <td>Somalia</td>\n",
       "      <td>10</td>\n",
       "    </tr>\n",
       "  </tbody>\n",
       "</table>\n",
       "<p>176 rows × 2 columns</p>\n",
       "</div>"
      ],
      "text/plain": [
       "           Country  Corruption Perceptions Index (CPI)\n",
       "0      New Zealand                                  90\n",
       "1          Denmark                                  90\n",
       "2          Finland                                  89\n",
       "3           Sweden                                  88\n",
       "4      Switzerland                                  86\n",
       "..             ...                                 ...\n",
       "171          Sudan                                  14\n",
       "172          Syria                                  13\n",
       "173  Korea (North)                                  12\n",
       "174    South Sudan                                  11\n",
       "175        Somalia                                  10\n",
       "\n",
       "[176 rows x 2 columns]"
      ]
     },
     "execution_count": 4,
     "metadata": {},
     "output_type": "execute_result"
    }
   ],
   "source": [
    "# filtra colunas irrelevantes\n",
    "corrupcao = co.loc[:,[\"Country\",\"Corruption Perceptions Index (CPI)\"]]\n",
    "\n",
    "# printa tabela_corrupcao\n",
    "corrupcao"
   ]
  },
  {
   "cell_type": "code",
   "execution_count": 6,
   "metadata": {},
   "outputs": [
    {
     "data": {
      "text/html": [
       "<div>\n",
       "<style scoped>\n",
       "    .dataframe tbody tr th:only-of-type {\n",
       "        vertical-align: middle;\n",
       "    }\n",
       "\n",
       "    .dataframe tbody tr th {\n",
       "        vertical-align: top;\n",
       "    }\n",
       "\n",
       "    .dataframe thead th {\n",
       "        text-align: right;\n",
       "    }\n",
       "</style>\n",
       "<table border=\"1\" class=\"dataframe\">\n",
       "  <thead>\n",
       "    <tr style=\"text-align: right;\">\n",
       "      <th></th>\n",
       "      <th>Country</th>\n",
       "      <th>Happiness Rank</th>\n",
       "      <th>Happiness Score</th>\n",
       "      <th>GDP per Capita</th>\n",
       "      <th>Life Expectancy</th>\n",
       "      <th>Freedom</th>\n",
       "      <th>Government Corruption (Trust)</th>\n",
       "      <th>Corruption Perceptions Index (CPI)</th>\n",
       "    </tr>\n",
       "  </thead>\n",
       "  <tbody>\n",
       "    <tr>\n",
       "      <td>0</td>\n",
       "      <td>Switzerland</td>\n",
       "      <td>1</td>\n",
       "      <td>7.587</td>\n",
       "      <td>1.39651</td>\n",
       "      <td>0.94143</td>\n",
       "      <td>0.66557</td>\n",
       "      <td>0.41978</td>\n",
       "      <td>86</td>\n",
       "    </tr>\n",
       "    <tr>\n",
       "      <td>1</td>\n",
       "      <td>Iceland</td>\n",
       "      <td>2</td>\n",
       "      <td>7.561</td>\n",
       "      <td>1.30232</td>\n",
       "      <td>0.94784</td>\n",
       "      <td>0.62877</td>\n",
       "      <td>0.14145</td>\n",
       "      <td>78</td>\n",
       "    </tr>\n",
       "    <tr>\n",
       "      <td>2</td>\n",
       "      <td>Denmark</td>\n",
       "      <td>3</td>\n",
       "      <td>7.527</td>\n",
       "      <td>1.32548</td>\n",
       "      <td>0.87464</td>\n",
       "      <td>0.64938</td>\n",
       "      <td>0.48357</td>\n",
       "      <td>90</td>\n",
       "    </tr>\n",
       "    <tr>\n",
       "      <td>3</td>\n",
       "      <td>Norway</td>\n",
       "      <td>4</td>\n",
       "      <td>7.522</td>\n",
       "      <td>1.45900</td>\n",
       "      <td>0.88521</td>\n",
       "      <td>0.66973</td>\n",
       "      <td>0.36503</td>\n",
       "      <td>85</td>\n",
       "    </tr>\n",
       "    <tr>\n",
       "      <td>4</td>\n",
       "      <td>Canada</td>\n",
       "      <td>5</td>\n",
       "      <td>7.427</td>\n",
       "      <td>1.32629</td>\n",
       "      <td>0.90563</td>\n",
       "      <td>0.63297</td>\n",
       "      <td>0.32957</td>\n",
       "      <td>82</td>\n",
       "    </tr>\n",
       "    <tr>\n",
       "      <td>...</td>\n",
       "      <td>...</td>\n",
       "      <td>...</td>\n",
       "      <td>...</td>\n",
       "      <td>...</td>\n",
       "      <td>...</td>\n",
       "      <td>...</td>\n",
       "      <td>...</td>\n",
       "      <td>...</td>\n",
       "    </tr>\n",
       "    <tr>\n",
       "      <td>143</td>\n",
       "      <td>Rwanda</td>\n",
       "      <td>154</td>\n",
       "      <td>3.465</td>\n",
       "      <td>0.22208</td>\n",
       "      <td>0.42864</td>\n",
       "      <td>0.59201</td>\n",
       "      <td>0.55191</td>\n",
       "      <td>54</td>\n",
       "    </tr>\n",
       "    <tr>\n",
       "      <td>144</td>\n",
       "      <td>Benin</td>\n",
       "      <td>155</td>\n",
       "      <td>3.340</td>\n",
       "      <td>0.28665</td>\n",
       "      <td>0.31910</td>\n",
       "      <td>0.48450</td>\n",
       "      <td>0.08010</td>\n",
       "      <td>36</td>\n",
       "    </tr>\n",
       "    <tr>\n",
       "      <td>145</td>\n",
       "      <td>Syria</td>\n",
       "      <td>156</td>\n",
       "      <td>3.006</td>\n",
       "      <td>0.66320</td>\n",
       "      <td>0.72193</td>\n",
       "      <td>0.15684</td>\n",
       "      <td>0.18906</td>\n",
       "      <td>13</td>\n",
       "    </tr>\n",
       "    <tr>\n",
       "      <td>146</td>\n",
       "      <td>Burundi</td>\n",
       "      <td>157</td>\n",
       "      <td>2.905</td>\n",
       "      <td>0.01530</td>\n",
       "      <td>0.22396</td>\n",
       "      <td>0.11850</td>\n",
       "      <td>0.10062</td>\n",
       "      <td>20</td>\n",
       "    </tr>\n",
       "    <tr>\n",
       "      <td>147</td>\n",
       "      <td>Togo</td>\n",
       "      <td>158</td>\n",
       "      <td>2.839</td>\n",
       "      <td>0.20868</td>\n",
       "      <td>0.28443</td>\n",
       "      <td>0.36453</td>\n",
       "      <td>0.10731</td>\n",
       "      <td>32</td>\n",
       "    </tr>\n",
       "  </tbody>\n",
       "</table>\n",
       "<p>148 rows × 8 columns</p>\n",
       "</div>"
      ],
      "text/plain": [
       "         Country  Happiness Rank  Happiness Score  GDP per Capita  \\\n",
       "0    Switzerland               1            7.587         1.39651   \n",
       "1        Iceland               2            7.561         1.30232   \n",
       "2        Denmark               3            7.527         1.32548   \n",
       "3         Norway               4            7.522         1.45900   \n",
       "4         Canada               5            7.427         1.32629   \n",
       "..           ...             ...              ...             ...   \n",
       "143       Rwanda             154            3.465         0.22208   \n",
       "144        Benin             155            3.340         0.28665   \n",
       "145        Syria             156            3.006         0.66320   \n",
       "146      Burundi             157            2.905         0.01530   \n",
       "147         Togo             158            2.839         0.20868   \n",
       "\n",
       "     Life Expectancy  Freedom  Government Corruption (Trust)  \\\n",
       "0            0.94143  0.66557                        0.41978   \n",
       "1            0.94784  0.62877                        0.14145   \n",
       "2            0.87464  0.64938                        0.48357   \n",
       "3            0.88521  0.66973                        0.36503   \n",
       "4            0.90563  0.63297                        0.32957   \n",
       "..               ...      ...                            ...   \n",
       "143          0.42864  0.59201                        0.55191   \n",
       "144          0.31910  0.48450                        0.08010   \n",
       "145          0.72193  0.15684                        0.18906   \n",
       "146          0.22396  0.11850                        0.10062   \n",
       "147          0.28443  0.36453                        0.10731   \n",
       "\n",
       "     Corruption Perceptions Index (CPI)  \n",
       "0                                    86  \n",
       "1                                    78  \n",
       "2                                    90  \n",
       "3                                    85  \n",
       "4                                    82  \n",
       "..                                  ...  \n",
       "143                                  54  \n",
       "144                                  36  \n",
       "145                                  13  \n",
       "146                                  20  \n",
       "147                                  32  \n",
       "\n",
       "[148 rows x 8 columns]"
      ]
     },
     "execution_count": 6,
     "metadata": {},
     "output_type": "execute_result"
    }
   ],
   "source": [
    "# junta tabela_nova e tabela_corrupcao\n",
    "tabela_completa = pd.merge(nova,corrupcao,on=\"Country\")\n",
    "tabela_completa"
   ]
  },
  {
   "cell_type": "markdown",
   "metadata": {},
   "source": [
    "### Análise proposta:\n",
    "**Prever a expectativa de vida de um país com base no PIB, índices de corrupção e índices de felicidade.**"
   ]
  },
  {
   "cell_type": "code",
   "execution_count": 7,
   "metadata": {},
   "outputs": [
    {
     "data": {
      "text/html": [
       "<div>\n",
       "<style scoped>\n",
       "    .dataframe tbody tr th:only-of-type {\n",
       "        vertical-align: middle;\n",
       "    }\n",
       "\n",
       "    .dataframe tbody tr th {\n",
       "        vertical-align: top;\n",
       "    }\n",
       "\n",
       "    .dataframe thead th {\n",
       "        text-align: right;\n",
       "    }\n",
       "</style>\n",
       "<table border=\"1\" class=\"dataframe\">\n",
       "  <thead>\n",
       "    <tr style=\"text-align: right;\">\n",
       "      <th></th>\n",
       "      <th>Happiness Rank</th>\n",
       "      <th>Happiness Score</th>\n",
       "      <th>GDP per Capita</th>\n",
       "      <th>Life Expectancy</th>\n",
       "      <th>Freedom</th>\n",
       "      <th>Government Corruption (Trust)</th>\n",
       "      <th>Corruption Perceptions Index (CPI)</th>\n",
       "    </tr>\n",
       "  </thead>\n",
       "  <tbody>\n",
       "    <tr>\n",
       "      <td>count</td>\n",
       "      <td>148.000000</td>\n",
       "      <td>148.000000</td>\n",
       "      <td>148.000000</td>\n",
       "      <td>148.000000</td>\n",
       "      <td>148.000000</td>\n",
       "      <td>148.000000</td>\n",
       "      <td>148.000000</td>\n",
       "    </tr>\n",
       "    <tr>\n",
       "      <td>mean</td>\n",
       "      <td>78.574324</td>\n",
       "      <td>5.397034</td>\n",
       "      <td>0.853249</td>\n",
       "      <td>0.637566</td>\n",
       "      <td>0.431699</td>\n",
       "      <td>0.143891</td>\n",
       "      <td>43.432432</td>\n",
       "    </tr>\n",
       "    <tr>\n",
       "      <td>std</td>\n",
       "      <td>46.015834</td>\n",
       "      <td>1.153823</td>\n",
       "      <td>0.399911</td>\n",
       "      <td>0.238391</td>\n",
       "      <td>0.152869</td>\n",
       "      <td>0.121347</td>\n",
       "      <td>19.572701</td>\n",
       "    </tr>\n",
       "    <tr>\n",
       "      <td>min</td>\n",
       "      <td>1.000000</td>\n",
       "      <td>2.839000</td>\n",
       "      <td>0.015300</td>\n",
       "      <td>0.000000</td>\n",
       "      <td>0.000000</td>\n",
       "      <td>0.000000</td>\n",
       "      <td>13.000000</td>\n",
       "    </tr>\n",
       "    <tr>\n",
       "      <td>25%</td>\n",
       "      <td>38.750000</td>\n",
       "      <td>4.542000</td>\n",
       "      <td>0.546262</td>\n",
       "      <td>0.478648</td>\n",
       "      <td>0.328630</td>\n",
       "      <td>0.061067</td>\n",
       "      <td>29.750000</td>\n",
       "    </tr>\n",
       "    <tr>\n",
       "      <td>50%</td>\n",
       "      <td>77.500000</td>\n",
       "      <td>5.277000</td>\n",
       "      <td>0.919550</td>\n",
       "      <td>0.697535</td>\n",
       "      <td>0.438215</td>\n",
       "      <td>0.106480</td>\n",
       "      <td>38.000000</td>\n",
       "    </tr>\n",
       "    <tr>\n",
       "      <td>75%</td>\n",
       "      <td>118.250000</td>\n",
       "      <td>6.295750</td>\n",
       "      <td>1.155523</td>\n",
       "      <td>0.809837</td>\n",
       "      <td>0.555402</td>\n",
       "      <td>0.182365</td>\n",
       "      <td>55.500000</td>\n",
       "    </tr>\n",
       "    <tr>\n",
       "      <td>max</td>\n",
       "      <td>158.000000</td>\n",
       "      <td>7.587000</td>\n",
       "      <td>1.690420</td>\n",
       "      <td>1.025250</td>\n",
       "      <td>0.669730</td>\n",
       "      <td>0.551910</td>\n",
       "      <td>90.000000</td>\n",
       "    </tr>\n",
       "  </tbody>\n",
       "</table>\n",
       "</div>"
      ],
      "text/plain": [
       "       Happiness Rank  Happiness Score  GDP per Capita  Life Expectancy  \\\n",
       "count      148.000000       148.000000      148.000000       148.000000   \n",
       "mean        78.574324         5.397034        0.853249         0.637566   \n",
       "std         46.015834         1.153823        0.399911         0.238391   \n",
       "min          1.000000         2.839000        0.015300         0.000000   \n",
       "25%         38.750000         4.542000        0.546262         0.478648   \n",
       "50%         77.500000         5.277000        0.919550         0.697535   \n",
       "75%        118.250000         6.295750        1.155523         0.809837   \n",
       "max        158.000000         7.587000        1.690420         1.025250   \n",
       "\n",
       "          Freedom  Government Corruption (Trust)  \\\n",
       "count  148.000000                     148.000000   \n",
       "mean     0.431699                       0.143891   \n",
       "std      0.152869                       0.121347   \n",
       "min      0.000000                       0.000000   \n",
       "25%      0.328630                       0.061067   \n",
       "50%      0.438215                       0.106480   \n",
       "75%      0.555402                       0.182365   \n",
       "max      0.669730                       0.551910   \n",
       "\n",
       "       Corruption Perceptions Index (CPI)  \n",
       "count                          148.000000  \n",
       "mean                            43.432432  \n",
       "std                             19.572701  \n",
       "min                             13.000000  \n",
       "25%                             29.750000  \n",
       "50%                             38.000000  \n",
       "75%                             55.500000  \n",
       "max                             90.000000  "
      ]
     },
     "execution_count": 7,
     "metadata": {},
     "output_type": "execute_result"
    }
   ],
   "source": [
    "# estatisticas descritivas sobre o Dataframe principal\n",
    "tabela_completa.describe()"
   ]
  },
  {
   "cell_type": "code",
   "execution_count": 8,
   "metadata": {},
   "outputs": [
    {
     "data": {
      "image/png": "[encoded data removed]",
      "text/plain": [
       "<Figure size 432x288 with 1 Axes>"
      ]
     },
     "metadata": {
      "needs_background": "light"
     },
     "output_type": "display_data"
    }
   ],
   "source": [
    "# gráfico de disperção PIB per Capita X Epectativa de vida\n",
    "plt.scatter(tabela_completa[\"GDP per Capita\"],tabela_completa[\"Life Expectancy\"])\n",
    "plt.grid(True)\n",
    "plt.xlabel(\"PIB per Capita\")\n",
    "plt.ylabel(\"Epectativa de vida\")\n",
    "plt.title(\"Relação entre PIB per Capita e Epectativa de vida\")\n",
    "plt.show()"
   ]
  },
  {
   "cell_type": "code",
   "execution_count": 9,
   "metadata": {},
   "outputs": [
    {
     "data": {
      "image/png": "[encoded data removed]",
      "text/plain": [
       "<Figure size 432x288 with 1 Axes>"
      ]
     },
     "metadata": {
      "needs_background": "light"
     },
     "output_type": "display_data"
    }
   ],
   "source": [
    "# gráfico de disperção Índice de percepção de corrupção X Epectativa de vida\n",
    "plt.scatter(tabela_completa[\"Corruption Perceptions Index (CPI)\"],tabela_completa[\"Life Expectancy\"])\n",
    "plt.grid(True)\n",
    "plt.xlabel(\"Índice de percepção de corrupção\")\n",
    "plt.ylabel(\"Expectativa de vida\")\n",
    "plt.title(\"Relação entre Índice de percepção de corrupção e Epectativa de vida\")\n",
    "plt.show()"
   ]
  },
  {
   "cell_type": "code",
   "execution_count": 13,
   "metadata": {},
   "outputs": [
    {
     "data": {
      "image/png": "[encoded data removed]",
      "text/plain": [
       "<Figure size 432x288 with 1 Axes>"
      ]
     },
     "metadata": {
      "needs_background": "light"
     },
     "output_type": "display_data"
    }
   ],
   "source": [
    "# gráfico de disperção Pontuação de felicidade X Epectativa de vida\n",
    "plt.scatter(tabela_completa[\"Happiness Score\"],tabela_completa[\"Life Expectancy\"])\n",
    "plt.grid(True)\n",
    "plt.xlabel(\"Pontuação de felicidade\")\n",
    "plt.ylabel(\"Epectativa de vida\")\n",
    "plt.title(\"Relação entre Pontuação de felicidade e Epectativa de vida\")\n",
    "plt.show()"
   ]
  },
  {
   "cell_type": "code",
   "execution_count": 14,
   "metadata": {},
   "outputs": [
    {
     "data": {
      "text/plain": [
       "(0.8210768946316289, 0.07827745603239561)"
      ]
     },
     "execution_count": 14,
     "metadata": {},
     "output_type": "execute_result"
    }
   ],
   "source": [
    "# Correlação e covariância entre PIB per Capita e Epectativa de vida\n",
    "cor_PIB = tabela_completa[\"Life Expectancy\"].corr(tabela_completa[\"GDP per Capita\"])\n",
    "cov_PIB = tabela_completa[\"Life Expectancy\"].cov(tabela_completa[\"GDP per Capita\"])\n",
    "\n",
    "cor_PIB,cov_PIB"
   ]
  },
  {
   "cell_type": "code",
   "execution_count": 15,
   "metadata": {},
   "outputs": [
    {
     "data": {
      "text/plain": [
       "(0.62973057578488, 0.62973057578488)"
      ]
     },
     "execution_count": 15,
     "metadata": {},
     "output_type": "execute_result"
    }
   ],
   "source": [
    "# Correlação e covariância entre Índice de percepção de corrupção e Epectativa de vida\n",
    "cor_COR = tabela_completa[\"Life Expectancy\"].corr(tabela_completa[\"Corruption Perceptions Index (CPI)\"])\n",
    "cov_COR = tabela_completa[\"Life Expectancy\"].cov(tabela_completa[\"Corruption Perceptions Index (CPI)\"])\n",
    "\n",
    "cor_COR,cor_COR"
   ]
  },
  {
   "cell_type": "code",
   "execution_count": 16,
   "metadata": {
    "scrolled": false
   },
   "outputs": [
    {
     "data": {
      "text/plain": [
       "(0.7279494536032477, 0.2002303086229086)"
      ]
     },
     "execution_count": 16,
     "metadata": {},
     "output_type": "execute_result"
    }
   ],
   "source": [
    "# Correlação e covariância entre Pontuação de felicidade e Epectativa de vida\n",
    "cor_FEL = tabela_completa[\"Life Expectancy\"].corr(tabela_completa[\"Happiness Score\"])\n",
    "cov_FEL = tabela_completa[\"Life Expectancy\"].cov(tabela_completa[\"Happiness Score\"])\n",
    "\n",
    "cor_FEL,cov_FEL"
   ]
  },
  {
   "cell_type": "code",
   "execution_count": 18,
   "metadata": {
    "scrolled": true
   },
   "outputs": [
    {
     "data": {
      "image/png": "[encoded data removed]",
      "text/plain": [
       "<Figure size 432x288 with 1 Axes>"
      ]
     },
     "metadata": {
      "needs_background": "light"
     },
     "output_type": "display_data"
    }
   ],
   "source": [
    "# Hisograma expectativa de vida\n",
    "plt.hist(tabela_completa[\"Life Expectancy\"], density=True, edgecolor=\"white\");\n",
    "plt.xlabel(\"Expectativa de vida\")\n",
    "plt.ylabel(\"Densidade\")\n",
    "plt.title(\"Histograma de expectativa de vida\");"
   ]
  },
  {
   "cell_type": "code",
   "execution_count": 19,
   "metadata": {},
   "outputs": [
    {
     "data": {
      "image/png": "[encoded data removed]",
      "text/plain": [
       "<Figure size 432x288 with 1 Axes>"
      ]
     },
     "metadata": {
      "needs_background": "light"
     },
     "output_type": "display_data"
    }
   ],
   "source": [
    "# Hisograma expectativa de vida\n",
    "plt.hist(tabela_completa[\"Happiness Score\"], density=True, edgecolor=\"white\");\n",
    "plt.xlabel(\"Pontuação de felicidade\")\n",
    "plt.ylabel(\"Densidade\")\n",
    "plt.title(\"Hitsograma de Pontuação de felicidade\");"
   ]
  },
  {
   "cell_type": "code",
   "execution_count": 20,
   "metadata": {},
   "outputs": [
    {
     "data": {
      "image/png": "[encoded data removed]",
      "text/plain": [
       "<Figure size 432x288 with 1 Axes>"
      ]
     },
     "metadata": {
      "needs_background": "light"
     },
     "output_type": "display_data"
    }
   ],
   "source": [
    "# Hisograma expectativa de vida\n",
    "plt.hist(tabela_completa[\"Corruption Perceptions Index (CPI)\"], density=True, edgecolor=\"white\");\n",
    "plt.xlabel(\"Índice de percepção de corrupção\")\n",
    "plt.ylabel(\"Densidade\")\n",
    "plt.title(\"Hitsograma de Índice de percepção de corrupção\");"
   ]
  },
  {
   "cell_type": "code",
   "execution_count": 21,
   "metadata": {},
   "outputs": [
    {
     "data": {
      "image/png": "[encoded data removed]",
      "text/plain": [
       "<Figure size 432x288 with 1 Axes>"
      ]
     },
     "metadata": {
      "needs_background": "light"
     },
     "output_type": "display_data"
    }
   ],
   "source": [
    "# Hisograma expectativa de vida\n",
    "plt.hist(tabela_completa[\"GDP per Capita\"], density=True, edgecolor=\"white\");\n",
    "plt.xlabel(\"PIB per capita\")\n",
    "plt.ylabel(\"Densidade\")\n",
    "plt.title(\"Hitsograma de PIB per capita\");"
   ]
  },
  {
   "cell_type": "code",
   "execution_count": null,
   "metadata": {},
   "outputs": [],
   "source": []
  }
 ],
 "metadata": {
  "kernelspec": {
   "display_name": "Python 3",
   "language": "python",
   "name": "python3"
  },
  "language_info": {
   "codemirror_mode": {
    "name": "ipython",
    "version": 3
   },
   "file_extension": ".py",
   "mimetype": "text/x-python",
   "name": "python",
   "nbconvert_exporter": "python",
   "pygments_lexer": "ipython3",
   "version": "3.7.4"
  }
 },
 "nbformat": 4,
 "nbformat_minor": 4
}
